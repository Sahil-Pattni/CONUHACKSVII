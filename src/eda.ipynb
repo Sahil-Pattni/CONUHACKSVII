{
 "cells": [
  {
   "cell_type": "code",
   "execution_count": 140,
   "metadata": {},
   "outputs": [],
   "source": [
    "# %%\n",
    "import pandas as pd\n",
    "import numpy as np\n",
    "import matplotlib.pyplot as plt\n",
    "\n",
    "df = pd.read_json('../data/TSXData.json')\n",
    "# Sort by timestamp unix\n",
    "df = df.sort_values(by=['TimeStamp'])"
   ]
  },
  {
   "cell_type": "code",
   "execution_count": 141,
   "metadata": {},
   "outputs": [
    {
     "data": {
      "text/plain": [
       "array(['NewOrderRequest', 'NewOrderAcknowledged', 'CancelRequest',\n",
       "       'CancelAcknowledged', 'Cancelled', 'Trade'], dtype=object)"
      ]
     },
     "execution_count": 141,
     "metadata": {},
     "output_type": "execute_result"
    }
   ],
   "source": [
    "df.MessageType.unique()"
   ]
  },
  {
   "cell_type": "code",
   "execution_count": 142,
   "metadata": {},
   "outputs": [
    {
     "data": {
      "text/plain": [
       "(212222,)"
      ]
     },
     "execution_count": 142,
     "metadata": {},
     "output_type": "execute_result"
    }
   ],
   "source": [
    "df.MessageType.shape"
   ]
  },
  {
   "cell_type": "code",
   "execution_count": 143,
   "metadata": {},
   "outputs": [
    {
     "name": "stdout",
     "output_type": "stream",
     "text": [
      "FOUND with shape (6, 8)!\n"
     ]
    }
   ],
   "source": [
    "# Unique Order IDs for Trade\n",
    "matches = []\n",
    "for order_id in df[df.MessageType=='Trade'].OrderID.unique():\n",
    "    orderfilter = df[df.OrderID==order_id]\n",
    "    if orderfilter.shape[0] > 1:\n",
    "        print(f'FOUND with shape {orderfilter.shape}!')\n",
    "        matches.append(orderfilter)\n",
    "        break"
   ]
  },
  {
   "attachments": {},
   "cell_type": "markdown",
   "metadata": {},
   "source": [
    "### ANOMALY DETECTED"
   ]
  },
  {
   "cell_type": "code",
   "execution_count": 144,
   "metadata": {},
   "outputs": [
    {
     "data": {
      "text/html": [
       "<div>\n",
       "<style scoped>\n",
       "    .dataframe tbody tr th:only-of-type {\n",
       "        vertical-align: middle;\n",
       "    }\n",
       "\n",
       "    .dataframe tbody tr th {\n",
       "        vertical-align: top;\n",
       "    }\n",
       "\n",
       "    .dataframe thead th {\n",
       "        text-align: right;\n",
       "    }\n",
       "</style>\n",
       "<table border=\"1\" class=\"dataframe\">\n",
       "  <thead>\n",
       "    <tr style=\"text-align: right;\">\n",
       "      <th></th>\n",
       "      <th>TimeStamp</th>\n",
       "      <th>TimeStampEpoch</th>\n",
       "      <th>Direction</th>\n",
       "      <th>OrderID</th>\n",
       "      <th>MessageType</th>\n",
       "      <th>Symbol</th>\n",
       "      <th>OrderPrice</th>\n",
       "      <th>Exchange</th>\n",
       "    </tr>\n",
       "  </thead>\n",
       "  <tbody>\n",
       "    <tr>\n",
       "      <th>53287</th>\n",
       "      <td>2023-01-06 09:30:00.238813104</td>\n",
       "      <td>2023-01-06 14:30:00.238813104</td>\n",
       "      <td>ExchangeToNBF</td>\n",
       "      <td>b96e916e-9283-11ed-ac0d-047c16291a22</td>\n",
       "      <td>Trade</td>\n",
       "      <td>MLW24</td>\n",
       "      <td>140.14</td>\n",
       "      <td>TSX</td>\n",
       "    </tr>\n",
       "    <tr>\n",
       "      <th>53292</th>\n",
       "      <td>2023-01-06 09:30:00.238878716</td>\n",
       "      <td>2023-01-06 14:30:00.238878716</td>\n",
       "      <td>ExchangeToNBF</td>\n",
       "      <td>b96e916e-9283-11ed-ac0d-047c16291a22</td>\n",
       "      <td>Trade</td>\n",
       "      <td>MLW24</td>\n",
       "      <td>140.14</td>\n",
       "      <td>TSX</td>\n",
       "    </tr>\n",
       "    <tr>\n",
       "      <th>53293</th>\n",
       "      <td>2023-01-06 09:30:00.238891893</td>\n",
       "      <td>2023-01-06 14:30:00.238891893</td>\n",
       "      <td>ExchangeToNBF</td>\n",
       "      <td>b96e916e-9283-11ed-ac0d-047c16291a22</td>\n",
       "      <td>Trade</td>\n",
       "      <td>MLW24</td>\n",
       "      <td>140.14</td>\n",
       "      <td>TSX</td>\n",
       "    </tr>\n",
       "    <tr>\n",
       "      <th>53730</th>\n",
       "      <td>2023-01-06 09:30:00.268049672</td>\n",
       "      <td>2023-01-06 14:30:00.268049672</td>\n",
       "      <td>NBFToExchange</td>\n",
       "      <td>b96e916e-9283-11ed-ac0d-047c16291a22</td>\n",
       "      <td>CancelRequest</td>\n",
       "      <td>MLW24</td>\n",
       "      <td>NaN</td>\n",
       "      <td>TSX</td>\n",
       "    </tr>\n",
       "    <tr>\n",
       "      <th>53734</th>\n",
       "      <td>2023-01-06 09:30:00.268169562</td>\n",
       "      <td>2023-01-06 14:30:00.268169562</td>\n",
       "      <td>ExchangeToNBF</td>\n",
       "      <td>b96e916e-9283-11ed-ac0d-047c16291a22</td>\n",
       "      <td>CancelAcknowledged</td>\n",
       "      <td>MLW24</td>\n",
       "      <td>NaN</td>\n",
       "      <td>TSX</td>\n",
       "    </tr>\n",
       "    <tr>\n",
       "      <th>53735</th>\n",
       "      <td>2023-01-06 09:30:00.268174478</td>\n",
       "      <td>2023-01-06 14:30:00.268174478</td>\n",
       "      <td>ExchangeToNBF</td>\n",
       "      <td>b96e916e-9283-11ed-ac0d-047c16291a22</td>\n",
       "      <td>Cancelled</td>\n",
       "      <td>MLW24</td>\n",
       "      <td>NaN</td>\n",
       "      <td>TSX</td>\n",
       "    </tr>\n",
       "  </tbody>\n",
       "</table>\n",
       "</div>"
      ],
      "text/plain": [
       "                          TimeStamp                TimeStampEpoch  \\\n",
       "53287 2023-01-06 09:30:00.238813104 2023-01-06 14:30:00.238813104   \n",
       "53292 2023-01-06 09:30:00.238878716 2023-01-06 14:30:00.238878716   \n",
       "53293 2023-01-06 09:30:00.238891893 2023-01-06 14:30:00.238891893   \n",
       "53730 2023-01-06 09:30:00.268049672 2023-01-06 14:30:00.268049672   \n",
       "53734 2023-01-06 09:30:00.268169562 2023-01-06 14:30:00.268169562   \n",
       "53735 2023-01-06 09:30:00.268174478 2023-01-06 14:30:00.268174478   \n",
       "\n",
       "           Direction                               OrderID  \\\n",
       "53287  ExchangeToNBF  b96e916e-9283-11ed-ac0d-047c16291a22   \n",
       "53292  ExchangeToNBF  b96e916e-9283-11ed-ac0d-047c16291a22   \n",
       "53293  ExchangeToNBF  b96e916e-9283-11ed-ac0d-047c16291a22   \n",
       "53730  NBFToExchange  b96e916e-9283-11ed-ac0d-047c16291a22   \n",
       "53734  ExchangeToNBF  b96e916e-9283-11ed-ac0d-047c16291a22   \n",
       "53735  ExchangeToNBF  b96e916e-9283-11ed-ac0d-047c16291a22   \n",
       "\n",
       "              MessageType Symbol  OrderPrice Exchange  \n",
       "53287               Trade  MLW24      140.14      TSX  \n",
       "53292               Trade  MLW24      140.14      TSX  \n",
       "53293               Trade  MLW24      140.14      TSX  \n",
       "53730       CancelRequest  MLW24         NaN      TSX  \n",
       "53734  CancelAcknowledged  MLW24         NaN      TSX  \n",
       "53735           Cancelled  MLW24         NaN      TSX  "
      ]
     },
     "execution_count": 144,
     "metadata": {},
     "output_type": "execute_result"
    }
   ],
   "source": [
    "matches[0].head(20)"
   ]
  },
  {
   "cell_type": "code",
   "execution_count": 145,
   "metadata": {},
   "outputs": [
    {
     "data": {
      "text/html": [
       "<div>\n",
       "<style scoped>\n",
       "    .dataframe tbody tr th:only-of-type {\n",
       "        vertical-align: middle;\n",
       "    }\n",
       "\n",
       "    .dataframe tbody tr th {\n",
       "        vertical-align: top;\n",
       "    }\n",
       "\n",
       "    .dataframe thead th {\n",
       "        text-align: right;\n",
       "    }\n",
       "</style>\n",
       "<table border=\"1\" class=\"dataframe\">\n",
       "  <thead>\n",
       "    <tr style=\"text-align: right;\">\n",
       "      <th></th>\n",
       "      <th>TimeStampEpoch</th>\n",
       "      <th>OrderID</th>\n",
       "      <th>MessageType</th>\n",
       "      <th>Symbol</th>\n",
       "    </tr>\n",
       "  </thead>\n",
       "  <tbody>\n",
       "    <tr>\n",
       "      <th>57277</th>\n",
       "      <td>2023-01-06 14:30:00.630270548</td>\n",
       "      <td>b970185a-9283-11ed-af6c-047c16291a22</td>\n",
       "      <td>Trade</td>\n",
       "      <td>ULCVN</td>\n",
       "    </tr>\n",
       "  </tbody>\n",
       "</table>\n",
       "</div>"
      ],
      "text/plain": [
       "                     TimeStampEpoch                               OrderID  \\\n",
       "57277 2023-01-06 14:30:00.630270548  b970185a-9283-11ed-af6c-047c16291a22   \n",
       "\n",
       "      MessageType Symbol  \n",
       "57277       Trade  ULCVN  "
      ]
     },
     "execution_count": 145,
     "metadata": {},
     "output_type": "execute_result"
    }
   ],
   "source": [
    "# Random Order ID\n",
    "message = None\n",
    "while message is None or message == 'Cancelled':\n",
    "    random_transaction = df[df.OrderID==df.OrderID.sample(1).values[0]][['TimeStampEpoch', 'OrderID', 'MessageType', 'Symbol']]\n",
    "    message = random_transaction['MessageType'].iloc[-1]\n",
    "\n",
    "random_transaction.head()"
   ]
  },
  {
   "cell_type": "code",
   "execution_count": 147,
   "metadata": {},
   "outputs": [
    {
     "data": {
      "text/html": [
       "<div>\n",
       "<style scoped>\n",
       "    .dataframe tbody tr th:only-of-type {\n",
       "        vertical-align: middle;\n",
       "    }\n",
       "\n",
       "    .dataframe tbody tr th {\n",
       "        vertical-align: top;\n",
       "    }\n",
       "\n",
       "    .dataframe thead th {\n",
       "        text-align: right;\n",
       "    }\n",
       "</style>\n",
       "<table border=\"1\" class=\"dataframe\">\n",
       "  <thead>\n",
       "    <tr style=\"text-align: right;\">\n",
       "      <th></th>\n",
       "      <th>TimeStamp</th>\n",
       "      <th>TimeStampEpoch</th>\n",
       "      <th>Direction</th>\n",
       "      <th>OrderID</th>\n",
       "      <th>MessageType</th>\n",
       "      <th>Symbol</th>\n",
       "      <th>OrderPrice</th>\n",
       "      <th>Exchange</th>\n",
       "    </tr>\n",
       "  </thead>\n",
       "  <tbody>\n",
       "    <tr>\n",
       "      <th>478</th>\n",
       "      <td>2023-01-06 09:28:00.065175765</td>\n",
       "      <td>2023-01-06 14:28:00.065175765</td>\n",
       "      <td>NBFToExchange</td>\n",
       "      <td>b963e2d9-9283-11ed-9264-047c16291a22</td>\n",
       "      <td>NewOrderRequest</td>\n",
       "      <td>GIJQX</td>\n",
       "      <td>65.42</td>\n",
       "      <td>TSX</td>\n",
       "    </tr>\n",
       "    <tr>\n",
       "      <th>482</th>\n",
       "      <td>2023-01-06 09:28:00.065236208</td>\n",
       "      <td>2023-01-06 14:28:00.065236208</td>\n",
       "      <td>ExchangeToNBF</td>\n",
       "      <td>b963e2d9-9283-11ed-9264-047c16291a22</td>\n",
       "      <td>NewOrderAcknowledged</td>\n",
       "      <td>GIJQX</td>\n",
       "      <td>65.42</td>\n",
       "      <td>TSX</td>\n",
       "    </tr>\n",
       "    <tr>\n",
       "      <th>607</th>\n",
       "      <td>2023-01-06 09:28:00.074839263</td>\n",
       "      <td>2023-01-06 14:28:00.074839263</td>\n",
       "      <td>NBFToExchange</td>\n",
       "      <td>b963e2d9-9283-11ed-9264-047c16291a22</td>\n",
       "      <td>CancelRequest</td>\n",
       "      <td>GIJQX</td>\n",
       "      <td>NaN</td>\n",
       "      <td>TSX</td>\n",
       "    </tr>\n",
       "    <tr>\n",
       "      <th>615</th>\n",
       "      <td>2023-01-06 09:28:00.074897876</td>\n",
       "      <td>2023-01-06 14:28:00.074897876</td>\n",
       "      <td>ExchangeToNBF</td>\n",
       "      <td>b963e2d9-9283-11ed-9264-047c16291a22</td>\n",
       "      <td>CancelAcknowledged</td>\n",
       "      <td>GIJQX</td>\n",
       "      <td>NaN</td>\n",
       "      <td>TSX</td>\n",
       "    </tr>\n",
       "    <tr>\n",
       "      <th>617</th>\n",
       "      <td>2023-01-06 09:28:00.074901621</td>\n",
       "      <td>2023-01-06 14:28:00.074901621</td>\n",
       "      <td>ExchangeToNBF</td>\n",
       "      <td>b963e2d9-9283-11ed-9264-047c16291a22</td>\n",
       "      <td>Cancelled</td>\n",
       "      <td>GIJQX</td>\n",
       "      <td>NaN</td>\n",
       "      <td>TSX</td>\n",
       "    </tr>\n",
       "  </tbody>\n",
       "</table>\n",
       "</div>"
      ],
      "text/plain": [
       "                        TimeStamp                TimeStampEpoch  \\\n",
       "478 2023-01-06 09:28:00.065175765 2023-01-06 14:28:00.065175765   \n",
       "482 2023-01-06 09:28:00.065236208 2023-01-06 14:28:00.065236208   \n",
       "607 2023-01-06 09:28:00.074839263 2023-01-06 14:28:00.074839263   \n",
       "615 2023-01-06 09:28:00.074897876 2023-01-06 14:28:00.074897876   \n",
       "617 2023-01-06 09:28:00.074901621 2023-01-06 14:28:00.074901621   \n",
       "\n",
       "         Direction                               OrderID  \\\n",
       "478  NBFToExchange  b963e2d9-9283-11ed-9264-047c16291a22   \n",
       "482  ExchangeToNBF  b963e2d9-9283-11ed-9264-047c16291a22   \n",
       "607  NBFToExchange  b963e2d9-9283-11ed-9264-047c16291a22   \n",
       "615  ExchangeToNBF  b963e2d9-9283-11ed-9264-047c16291a22   \n",
       "617  ExchangeToNBF  b963e2d9-9283-11ed-9264-047c16291a22   \n",
       "\n",
       "              MessageType Symbol  OrderPrice Exchange  \n",
       "478       NewOrderRequest  GIJQX       65.42      TSX  \n",
       "482  NewOrderAcknowledged  GIJQX       65.42      TSX  \n",
       "607         CancelRequest  GIJQX         NaN      TSX  \n",
       "615    CancelAcknowledged  GIJQX         NaN      TSX  \n",
       "617             Cancelled  GIJQX         NaN      TSX  "
      ]
     },
     "execution_count": 147,
     "metadata": {},
     "output_type": "execute_result"
    }
   ],
   "source": [
    "df[df.OrderID=='b963e2d9-9283-11ed-9264-047c16291a22']"
   ]
  },
  {
   "cell_type": "code",
   "execution_count": 148,
   "metadata": {},
   "outputs": [
    {
     "data": {
      "text/html": [
       "<div>\n",
       "<style scoped>\n",
       "    .dataframe tbody tr th:only-of-type {\n",
       "        vertical-align: middle;\n",
       "    }\n",
       "\n",
       "    .dataframe tbody tr th {\n",
       "        vertical-align: top;\n",
       "    }\n",
       "\n",
       "    .dataframe thead th {\n",
       "        text-align: right;\n",
       "    }\n",
       "</style>\n",
       "<table border=\"1\" class=\"dataframe\">\n",
       "  <thead>\n",
       "    <tr style=\"text-align: right;\">\n",
       "      <th></th>\n",
       "      <th>TimeStamp</th>\n",
       "      <th>TimeStampEpoch</th>\n",
       "      <th>Direction</th>\n",
       "      <th>OrderID</th>\n",
       "      <th>MessageType</th>\n",
       "      <th>Symbol</th>\n",
       "      <th>OrderPrice</th>\n",
       "      <th>Exchange</th>\n",
       "    </tr>\n",
       "  </thead>\n",
       "  <tbody>\n",
       "    <tr>\n",
       "      <th>0</th>\n",
       "      <td>2023-01-06 09:28:00.011058962</td>\n",
       "      <td>2023-01-06 14:28:00.011058962</td>\n",
       "      <td>NBFToExchange</td>\n",
       "      <td>b963bbc8-9283-11ed-9ad4-047c16291a22</td>\n",
       "      <td>NewOrderRequest</td>\n",
       "      <td>OA14Y</td>\n",
       "      <td>61.56</td>\n",
       "      <td>TSX</td>\n",
       "    </tr>\n",
       "    <tr>\n",
       "      <th>1</th>\n",
       "      <td>2023-01-06 09:28:00.011081372</td>\n",
       "      <td>2023-01-06 14:28:00.011081372</td>\n",
       "      <td>NBFToExchange</td>\n",
       "      <td>b963bbc9-9283-11ed-8b08-047c16291a22</td>\n",
       "      <td>NewOrderRequest</td>\n",
       "      <td>OOOTO</td>\n",
       "      <td>69.37</td>\n",
       "      <td>TSX</td>\n",
       "    </tr>\n",
       "    <tr>\n",
       "      <th>2</th>\n",
       "      <td>2023-01-06 09:28:00.011117286</td>\n",
       "      <td>2023-01-06 14:28:00.011117286</td>\n",
       "      <td>ExchangeToNBF</td>\n",
       "      <td>b963bbc8-9283-11ed-9ad4-047c16291a22</td>\n",
       "      <td>NewOrderAcknowledged</td>\n",
       "      <td>OA14Y</td>\n",
       "      <td>61.56</td>\n",
       "      <td>TSX</td>\n",
       "    </tr>\n",
       "    <tr>\n",
       "      <th>3</th>\n",
       "      <td>2023-01-06 09:28:00.011125452</td>\n",
       "      <td>2023-01-06 14:28:00.011125452</td>\n",
       "      <td>NBFToExchange</td>\n",
       "      <td>b963bbca-9283-11ed-b19f-047c16291a22</td>\n",
       "      <td>CancelRequest</td>\n",
       "      <td>OA14Y</td>\n",
       "      <td>NaN</td>\n",
       "      <td>TSX</td>\n",
       "    </tr>\n",
       "    <tr>\n",
       "      <th>4</th>\n",
       "      <td>2023-01-06 09:28:00.011129285</td>\n",
       "      <td>2023-01-06 14:28:00.011129285</td>\n",
       "      <td>NBFToExchange</td>\n",
       "      <td>b963bbcb-9283-11ed-aba1-047c16291a22</td>\n",
       "      <td>NewOrderRequest</td>\n",
       "      <td>NQGAH</td>\n",
       "      <td>73.20</td>\n",
       "      <td>TSX</td>\n",
       "    </tr>\n",
       "  </tbody>\n",
       "</table>\n",
       "</div>"
      ],
      "text/plain": [
       "                      TimeStamp                TimeStampEpoch      Direction  \\\n",
       "0 2023-01-06 09:28:00.011058962 2023-01-06 14:28:00.011058962  NBFToExchange   \n",
       "1 2023-01-06 09:28:00.011081372 2023-01-06 14:28:00.011081372  NBFToExchange   \n",
       "2 2023-01-06 09:28:00.011117286 2023-01-06 14:28:00.011117286  ExchangeToNBF   \n",
       "3 2023-01-06 09:28:00.011125452 2023-01-06 14:28:00.011125452  NBFToExchange   \n",
       "4 2023-01-06 09:28:00.011129285 2023-01-06 14:28:00.011129285  NBFToExchange   \n",
       "\n",
       "                                OrderID           MessageType Symbol  \\\n",
       "0  b963bbc8-9283-11ed-9ad4-047c16291a22       NewOrderRequest  OA14Y   \n",
       "1  b963bbc9-9283-11ed-8b08-047c16291a22       NewOrderRequest  OOOTO   \n",
       "2  b963bbc8-9283-11ed-9ad4-047c16291a22  NewOrderAcknowledged  OA14Y   \n",
       "3  b963bbca-9283-11ed-b19f-047c16291a22         CancelRequest  OA14Y   \n",
       "4  b963bbcb-9283-11ed-aba1-047c16291a22       NewOrderRequest  NQGAH   \n",
       "\n",
       "   OrderPrice Exchange  \n",
       "0       61.56      TSX  \n",
       "1       69.37      TSX  \n",
       "2       61.56      TSX  \n",
       "3         NaN      TSX  \n",
       "4       73.20      TSX  "
      ]
     },
     "execution_count": 148,
     "metadata": {},
     "output_type": "execute_result"
    }
   ],
   "source": [
    "df.head()"
   ]
  },
  {
   "cell_type": "code",
   "execution_count": 149,
   "metadata": {},
   "outputs": [
    {
     "data": {
      "text/plain": [
       "(212222, 8)"
      ]
     },
     "execution_count": 149,
     "metadata": {},
     "output_type": "execute_result"
    }
   ],
   "source": [
    "df.shape"
   ]
  },
  {
   "cell_type": "code",
   "execution_count": null,
   "metadata": {},
   "outputs": [],
   "source": []
  }
 ],
 "metadata": {
  "kernelspec": {
   "display_name": "base",
   "language": "python",
   "name": "python3"
  },
  "language_info": {
   "codemirror_mode": {
    "name": "ipython",
    "version": 3
   },
   "file_extension": ".py",
   "mimetype": "text/x-python",
   "name": "python",
   "nbconvert_exporter": "python",
   "pygments_lexer": "ipython3",
   "version": "3.8.8"
  },
  "orig_nbformat": 4,
  "vscode": {
   "interpreter": {
    "hash": "ae08824baa24424d06435d1b6c7dfcb2ae460f13f790e5d9fc8245f7170c554c"
   }
  }
 },
 "nbformat": 4,
 "nbformat_minor": 2
}
