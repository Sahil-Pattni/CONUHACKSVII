{
 "cells": [
  {
   "cell_type": "code",
   "execution_count": 123,
   "metadata": {},
   "outputs": [],
   "source": [
    "# %%\n",
    "import pandas as pd\n",
    "import numpy as np\n",
    "import matplotlib.pyplot as plt\n",
    "\n",
    "df = pd.read_json('../data/TSXData.json')"
   ]
  },
  {
   "cell_type": "code",
   "execution_count": 68,
   "metadata": {},
   "outputs": [
    {
     "data": {
      "text/plain": [
       "array(['NewOrderRequest', 'NewOrderAcknowledged', 'CancelRequest',\n",
       "       'CancelAcknowledged', 'Cancelled', 'Trade'], dtype=object)"
      ]
     },
     "execution_count": 68,
     "metadata": {},
     "output_type": "execute_result"
    }
   ],
   "source": [
    "df.MessageType.unique()"
   ]
  },
  {
   "cell_type": "code",
   "execution_count": 66,
   "metadata": {},
   "outputs": [
    {
     "data": {
      "text/plain": [
       "(212222,)"
      ]
     },
     "execution_count": 66,
     "metadata": {},
     "output_type": "execute_result"
    }
   ],
   "source": [
    "df.MessageType.shape"
   ]
  },
  {
   "cell_type": "code",
   "execution_count": 135,
   "metadata": {},
   "outputs": [
    {
     "name": "stdout",
     "output_type": "stream",
     "text": [
      "FOUND with shape (6, 8)!\n"
     ]
    }
   ],
   "source": [
    "# Unique Order IDs for Trade\n",
    "matches = []\n",
    "for order_id in df[df.MessageType=='Trade'].OrderID.unique():\n",
    "    orderfilter = df[df.OrderID==order_id]\n",
    "    if orderfilter.shape[0] > 1:\n",
    "        print(f'FOUND with shape {orderfilter.shape}!')\n",
    "        matches.append(orderfilter)\n",
    "        break"
   ]
  },
  {
   "attachments": {},
   "cell_type": "markdown",
   "metadata": {},
   "source": [
    "### ANOMALY DETECTED"
   ]
  },
  {
   "cell_type": "code",
   "execution_count": 136,
   "metadata": {},
   "outputs": [
    {
     "data": {
      "text/html": [
       "<div>\n",
       "<style scoped>\n",
       "    .dataframe tbody tr th:only-of-type {\n",
       "        vertical-align: middle;\n",
       "    }\n",
       "\n",
       "    .dataframe tbody tr th {\n",
       "        vertical-align: top;\n",
       "    }\n",
       "\n",
       "    .dataframe thead th {\n",
       "        text-align: right;\n",
       "    }\n",
       "</style>\n",
       "<table border=\"1\" class=\"dataframe\">\n",
       "  <thead>\n",
       "    <tr style=\"text-align: right;\">\n",
       "      <th></th>\n",
       "      <th>TimeStamp</th>\n",
       "      <th>TimeStampEpoch</th>\n",
       "      <th>Direction</th>\n",
       "      <th>OrderID</th>\n",
       "      <th>MessageType</th>\n",
       "      <th>Symbol</th>\n",
       "      <th>OrderPrice</th>\n",
       "      <th>Exchange</th>\n",
       "    </tr>\n",
       "  </thead>\n",
       "  <tbody>\n",
       "    <tr>\n",
       "      <th>53287</th>\n",
       "      <td>2023-01-06 09:30:00.238813104</td>\n",
       "      <td>2023-01-06 14:30:00.238813104</td>\n",
       "      <td>ExchangeToNBF</td>\n",
       "      <td>b96e916e-9283-11ed-ac0d-047c16291a22</td>\n",
       "      <td>Trade</td>\n",
       "      <td>MLW24</td>\n",
       "      <td>140.14</td>\n",
       "      <td>TSX</td>\n",
       "    </tr>\n",
       "    <tr>\n",
       "      <th>53292</th>\n",
       "      <td>2023-01-06 09:30:00.238878716</td>\n",
       "      <td>2023-01-06 14:30:00.238878716</td>\n",
       "      <td>ExchangeToNBF</td>\n",
       "      <td>b96e916e-9283-11ed-ac0d-047c16291a22</td>\n",
       "      <td>Trade</td>\n",
       "      <td>MLW24</td>\n",
       "      <td>140.14</td>\n",
       "      <td>TSX</td>\n",
       "    </tr>\n",
       "    <tr>\n",
       "      <th>53293</th>\n",
       "      <td>2023-01-06 09:30:00.238891893</td>\n",
       "      <td>2023-01-06 14:30:00.238891893</td>\n",
       "      <td>ExchangeToNBF</td>\n",
       "      <td>b96e916e-9283-11ed-ac0d-047c16291a22</td>\n",
       "      <td>Trade</td>\n",
       "      <td>MLW24</td>\n",
       "      <td>140.14</td>\n",
       "      <td>TSX</td>\n",
       "    </tr>\n",
       "    <tr>\n",
       "      <th>53730</th>\n",
       "      <td>2023-01-06 09:30:00.268049672</td>\n",
       "      <td>2023-01-06 14:30:00.268049672</td>\n",
       "      <td>NBFToExchange</td>\n",
       "      <td>b96e916e-9283-11ed-ac0d-047c16291a22</td>\n",
       "      <td>CancelRequest</td>\n",
       "      <td>MLW24</td>\n",
       "      <td>NaN</td>\n",
       "      <td>TSX</td>\n",
       "    </tr>\n",
       "    <tr>\n",
       "      <th>53734</th>\n",
       "      <td>2023-01-06 09:30:00.268169562</td>\n",
       "      <td>2023-01-06 14:30:00.268169562</td>\n",
       "      <td>ExchangeToNBF</td>\n",
       "      <td>b96e916e-9283-11ed-ac0d-047c16291a22</td>\n",
       "      <td>CancelAcknowledged</td>\n",
       "      <td>MLW24</td>\n",
       "      <td>NaN</td>\n",
       "      <td>TSX</td>\n",
       "    </tr>\n",
       "    <tr>\n",
       "      <th>53735</th>\n",
       "      <td>2023-01-06 09:30:00.268174478</td>\n",
       "      <td>2023-01-06 14:30:00.268174478</td>\n",
       "      <td>ExchangeToNBF</td>\n",
       "      <td>b96e916e-9283-11ed-ac0d-047c16291a22</td>\n",
       "      <td>Cancelled</td>\n",
       "      <td>MLW24</td>\n",
       "      <td>NaN</td>\n",
       "      <td>TSX</td>\n",
       "    </tr>\n",
       "  </tbody>\n",
       "</table>\n",
       "</div>"
      ],
      "text/plain": [
       "                          TimeStamp                TimeStampEpoch  \\\n",
       "53287 2023-01-06 09:30:00.238813104 2023-01-06 14:30:00.238813104   \n",
       "53292 2023-01-06 09:30:00.238878716 2023-01-06 14:30:00.238878716   \n",
       "53293 2023-01-06 09:30:00.238891893 2023-01-06 14:30:00.238891893   \n",
       "53730 2023-01-06 09:30:00.268049672 2023-01-06 14:30:00.268049672   \n",
       "53734 2023-01-06 09:30:00.268169562 2023-01-06 14:30:00.268169562   \n",
       "53735 2023-01-06 09:30:00.268174478 2023-01-06 14:30:00.268174478   \n",
       "\n",
       "           Direction                               OrderID  \\\n",
       "53287  ExchangeToNBF  b96e916e-9283-11ed-ac0d-047c16291a22   \n",
       "53292  ExchangeToNBF  b96e916e-9283-11ed-ac0d-047c16291a22   \n",
       "53293  ExchangeToNBF  b96e916e-9283-11ed-ac0d-047c16291a22   \n",
       "53730  NBFToExchange  b96e916e-9283-11ed-ac0d-047c16291a22   \n",
       "53734  ExchangeToNBF  b96e916e-9283-11ed-ac0d-047c16291a22   \n",
       "53735  ExchangeToNBF  b96e916e-9283-11ed-ac0d-047c16291a22   \n",
       "\n",
       "              MessageType Symbol  OrderPrice Exchange  \n",
       "53287               Trade  MLW24      140.14      TSX  \n",
       "53292               Trade  MLW24      140.14      TSX  \n",
       "53293               Trade  MLW24      140.14      TSX  \n",
       "53730       CancelRequest  MLW24         NaN      TSX  \n",
       "53734  CancelAcknowledged  MLW24         NaN      TSX  \n",
       "53735           Cancelled  MLW24         NaN      TSX  "
      ]
     },
     "execution_count": 136,
     "metadata": {},
     "output_type": "execute_result"
    }
   ],
   "source": [
    "matches[0].head(20)"
   ]
  },
  {
   "cell_type": "code",
   "execution_count": 122,
   "metadata": {},
   "outputs": [
    {
     "data": {
      "text/html": [
       "<div>\n",
       "<style scoped>\n",
       "    .dataframe tbody tr th:only-of-type {\n",
       "        vertical-align: middle;\n",
       "    }\n",
       "\n",
       "    .dataframe tbody tr th {\n",
       "        vertical-align: top;\n",
       "    }\n",
       "\n",
       "    .dataframe thead th {\n",
       "        text-align: right;\n",
       "    }\n",
       "</style>\n",
       "<table border=\"1\" class=\"dataframe\">\n",
       "  <thead>\n",
       "    <tr style=\"text-align: right;\">\n",
       "      <th></th>\n",
       "      <th>TimeStampEpoch</th>\n",
       "      <th>OrderID</th>\n",
       "      <th>MessageType</th>\n",
       "      <th>Symbol</th>\n",
       "    </tr>\n",
       "  </thead>\n",
       "  <tbody>\n",
       "    <tr>\n",
       "      <th>55835</th>\n",
       "      <td>2023-01-06 14:30:00.434764672</td>\n",
       "      <td>b96f7ba6-9283-11ed-b107-047c16291a22</td>\n",
       "      <td>Trade</td>\n",
       "      <td>VQDGA</td>\n",
       "    </tr>\n",
       "  </tbody>\n",
       "</table>\n",
       "</div>"
      ],
      "text/plain": [
       "                     TimeStampEpoch                               OrderID  \\\n",
       "55835 2023-01-06 14:30:00.434764672  b96f7ba6-9283-11ed-b107-047c16291a22   \n",
       "\n",
       "      MessageType Symbol  \n",
       "55835       Trade  VQDGA  "
      ]
     },
     "execution_count": 122,
     "metadata": {},
     "output_type": "execute_result"
    }
   ],
   "source": [
    "# Random Order ID\n",
    "message = None\n",
    "while message is None or message == 'Cancelled':\n",
    "    random_transaction = df[df.OrderID==df.OrderID.sample(1).values[0]][['TimeStampEpoch', 'OrderID', 'MessageType', 'Symbol']]\n",
    "    message = random_transaction['MessageType'].iloc[-1]\n",
    "\n",
    "random_transaction.head()"
   ]
  },
  {
   "cell_type": "code",
   "execution_count": null,
   "metadata": {},
   "outputs": [],
   "source": []
  }
 ],
 "metadata": {
  "kernelspec": {
   "display_name": "base",
   "language": "python",
   "name": "python3"
  },
  "language_info": {
   "codemirror_mode": {
    "name": "ipython",
    "version": 3
   },
   "file_extension": ".py",
   "mimetype": "text/x-python",
   "name": "python",
   "nbconvert_exporter": "python",
   "pygments_lexer": "ipython3",
   "version": "3.8.8"
  },
  "orig_nbformat": 4,
  "vscode": {
   "interpreter": {
    "hash": "ae08824baa24424d06435d1b6c7dfcb2ae460f13f790e5d9fc8245f7170c554c"
   }
  }
 },
 "nbformat": 4,
 "nbformat_minor": 2
}
